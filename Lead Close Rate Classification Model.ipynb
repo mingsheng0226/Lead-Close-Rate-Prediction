{
 "cells": [
  {
   "cell_type": "markdown",
   "metadata": {},
   "source": [
    "# Lead Close Rate Classification Model"
   ]
  },
  {
   "cell_type": "code",
   "execution_count": 84,
   "metadata": {
    "collapsed": true
   },
   "outputs": [],
   "source": [
    "import numpy as np\n",
    "import pandas as pd"
   ]
  },
  {
   "cell_type": "markdown",
   "metadata": {},
   "source": [
    "## Import Raw Data"
   ]
  },
  {
   "cell_type": "code",
   "execution_count": 85,
   "metadata": {
    "collapsed": false
   },
   "outputs": [],
   "source": [
    "# report contains all quotes and orders data in 2017\n",
    "report = pd.read_csv('../report1701-1708.csv', na_values=['','null','Not quoted yet','NA','<NA>','No'], encoding='latin-1')\n",
    "# enrich contains all correctly enriched customer information from Clearbit and Orb\n",
    "enrich = pd.read_csv('full_enriched_customer.csv', na_values=['','NA'], encoding='latin-1')"
   ]
  },
  {
   "cell_type": "markdown",
   "metadata": {},
   "source": [
    "## Data Cleaning"
   ]
  },
  {
   "cell_type": "code",
   "execution_count": 86,
   "metadata": {
    "collapsed": false
   },
   "outputs": [],
   "source": [
    "full = pd.merge(report, enrich, on='Customer.No', how='left')\n",
    "full['Request.Date'] = pd.to_datetime(full['Request.Date'],format='%Y-%m-%d %H:%M:%S')\n",
    "full['Invoice.Accept.Date'] = full['Invoice.Accept.Date'].fillna('2100-01-01 00:00:00')\n",
    "full['Invoice.Accept.Date'] = pd.to_datetime(full['Invoice.Accept.Date'],format='%Y-%m-%d %H:%M:%S')\n",
    "full['Order.Number'].replace(\"[^0-9]+$\",\"\",inplace=True,regex=True)\n",
    "full['Order.Number'] = full['Order.Number'].fillna('no_order')\n",
    "full['Product'].replace(\"^Custom \",\"\",inplace=True,regex=True)\n",
    "full['Paid.Amount'] = full['Paid.Amount'].fillna(0)\n",
    "full[['industry_category','industry_sub_category','range_employees','range_revenue']] = full[['industry_category','industry_sub_category','range_employees','range_revenue']].fillna('personal')\n",
    "# add flags whether first quote\n",
    "full = full[full['Quote.No'].notnull()]\n",
    "full = full.sort_values(['Request.Date','Invoice.Accept.Date'])\n",
    "# change definition of new quote to quotes before first order\n",
    "full['paid_amt_lag'] = full.groupby('Customer.No')['Paid.Amount'].shift(1).fillna(0)\n",
    "full['whether_new'] = np.where((full['Customer.No'].duplicated())&(~(full['paid_amt_lag']==0)),0,1)\n",
    "full = full[['Quote.No','Request.Date','Invoice.Accept.Date','Product','Order.Number','Customer.No','Paid.Amount','industry_category','industry_sub_category','range_employees','range_revenue','whether_new','Sales.Rep']]\n",
    "grouped_amt = full[['Quote.No','Order.Number','Paid.Amount']].copy()\n",
    "grouped_amt = grouped_amt.groupby(['Quote.No','Order.Number']).sum().reset_index()\n",
    "full = full[(~full[['Order.Number']].duplicated())|(full['Order.Number']=='no_order')]\n",
    "full = pd.merge(full[full.columns.difference(['Paid.Amount'])], grouped_amt, on=['Quote.No','Order.Number'], how='left')"
   ]
  },
  {
   "cell_type": "markdown",
   "metadata": {},
   "source": [
    "## Building Expert Variables"
   ]
  },
  {
   "cell_type": "code",
   "execution_count": 87,
   "metadata": {
    "collapsed": false
   },
   "outputs": [],
   "source": [
    "# add sales cycle and flags whether the quote is closed within 3 days and 2 weeks\n",
    "full['close_3d'] = np.where((full['Invoice.Accept.Date']-full['Request.Date']).apply(lambda x: x.days)<4, 1, 0)\n",
    "full['close_2w'] = np.where((full['Invoice.Accept.Date']-full['Request.Date']).apply(lambda x: x.days)<15, 1, 0)\n",
    "full['whether_order'] = np.where(full['Paid.Amount']==0,0,1)\n",
    "full['sales_cycle'] = (full['Invoice.Accept.Date']-full['Request.Date']).apply(lambda x: x.days) * full['whether_order']\n",
    "\n",
    "# calculate the historical aov, average close rate, average sales cycle\n",
    "full['ones'] = 1\n",
    "full.ix[0, 'ones'] = 0\n",
    "full['amt_lag'] = full['Paid.Amount'].shift(1).fillna(0)\n",
    "full['whether_order_lag'] = full['whether_order'].shift(1).fillna(0)\n",
    "full['sales_cycle_lag'] = full['sales_cycle'].shift(1).fillna(0)\n",
    "\n",
    "full['aov'] = (full['amt_lag'].cumsum()/full['whether_order_lag'].cumsum()).fillna(0)\n",
    "full['avg_close_rate'] = (full['whether_order_lag'].cumsum()/full['ones'].cumsum()).fillna(0)\n",
    "full['avg_sales_cycle'] = (full['sales_cycle_lag'].cumsum()/full['whether_order_lag'].cumsum()).fillna(0)\n",
    "\n",
    "# calculate the number of quotes since last order\n",
    "full['order_grp'] = full.groupby('Customer.No')['whether_order'].cumsum()\n",
    "full['quotes_since'] = full.groupby(['Customer.No','order_grp']).cumcount()\n",
    "full['quotes_since_last_order'] = np.where(full['order_grp']==0,full['quotes_since']+1,full['quotes_since'])\n",
    "full['quotes_since_last_order'] = np.where(full['whether_order']==1,full.groupby('Customer.No')['quotes_since_last_order'].shift(1).fillna(0)+1,full['quotes_since_last_order'])\n",
    "\n",
    "# add the lag1 columns for paid.amount, whether_order, sales_cycle for each category\n",
    "full['product_amt_lag'] = full.groupby('Product')['Paid.Amount'].shift(1).fillna(0)\n",
    "full['industry_category_amt_lag'] = full.groupby('industry_category')['Paid.Amount'].shift(1).fillna(0)\n",
    "full['industry_sub_category_amt_lag'] = full.groupby('industry_sub_category')['Paid.Amount'].shift(1).fillna(0)\n",
    "full['range_employees_amt_lag'] = full.groupby('range_employees')['Paid.Amount'].shift(1).fillna(0)\n",
    "full['range_revenue_amt_lag'] = full.groupby('range_revenue')['Paid.Amount'].shift(1).fillna(0)\n",
    "\n",
    "full['product_order_lag'] = full.groupby('Product')['whether_order'].shift(1).fillna(0)\n",
    "full['industry_category_order_lag'] = full.groupby('industry_category')['whether_order'].shift(1).fillna(0)\n",
    "full['industry_sub_category_order_lag'] = full.groupby('industry_sub_category')['whether_order'].shift(1).fillna(0)\n",
    "full['range_employees_order_lag'] = full.groupby('range_employees')['whether_order'].shift(1).fillna(0)\n",
    "full['range_revenue_order_lag'] = full.groupby('range_revenue')['whether_order'].shift(1).fillna(0)\n",
    "\n",
    "full['product_sc_lag'] = full.groupby('Product')['sales_cycle'].shift(1).fillna(0)\n",
    "full['industry_category_sc_lag'] = full.groupby('industry_category')['sales_cycle'].shift(1).fillna(0)\n",
    "full['industry_sub_category_sc_lag'] = full.groupby('industry_sub_category')['sales_cycle'].shift(1).fillna(0)\n",
    "full['range_employees_sc_lag'] = full.groupby('range_employees')['sales_cycle'].shift(1).fillna(0)\n",
    "full['range_revenue_sc_lag'] = full.groupby('range_revenue')['sales_cycle'].shift(1).fillna(0)\n",
    "\n",
    "# calculate AOV by product, industry_category, industry_sub_category, range_employee, range_revenue based on lag1 values\n",
    "full['product_aov'] = (full.groupby('Product')['product_amt_lag'].cumsum()/full.groupby('Product')['product_order_lag'].cumsum()).fillna(0)\n",
    "full['industry_category_aov'] = (full.groupby('industry_category')['industry_category_amt_lag'].cumsum()/full.groupby('industry_category')['industry_category_order_lag'].cumsum()).fillna(0)\n",
    "full['industry_sub_category_aov'] = (full.groupby('industry_sub_category')['industry_sub_category_amt_lag'].cumsum()/full.groupby('industry_sub_category')['industry_sub_category_order_lag'].cumsum()).fillna(0)\n",
    "full['range_employees_aov'] = (full.groupby('range_employees')['range_employees_amt_lag'].cumsum()/full.groupby('range_employees')['range_employees_order_lag'].cumsum()).fillna(0)\n",
    "full['range_revenue_aov'] = (full.groupby('range_revenue')['range_revenue_amt_lag'].cumsum()/full.groupby('range_revenue')['range_revenue_order_lag'].cumsum()).fillna(0)\n",
    "\n",
    "# calculate historical close rate and average sales cycle \n",
    "# by product, industry_category, industry_sub_category, range_employee, range_revenue based on lag1 values\n",
    "full['product_close_rate'] = (full.groupby('Product')['product_order_lag'].cumsum()/full.groupby('Product').cumcount()).fillna(0)\n",
    "full['product_asc'] = (full.groupby('Product')['product_sc_lag'].cumsum()/full.groupby('Product')['product_order_lag'].cumsum()).fillna(0)\n",
    "full['industry_category_close_rate'] = (full.groupby('industry_category')['industry_category_order_lag'].cumsum()/full.groupby('industry_category').cumcount()).fillna(0)\n",
    "full['industry_category_asc'] = (full.groupby('industry_category')['industry_category_sc_lag'].cumsum()/full.groupby('industry_category')['industry_category_order_lag'].cumsum()).fillna(0)\n",
    "full['industry_sub_category_close_rate'] = (full.groupby('industry_sub_category')['industry_sub_category_order_lag'].cumsum()/full.groupby('industry_sub_category').cumcount()).fillna(0)\n",
    "full['industry_sub_category_asc'] = (full.groupby('industry_sub_category')['industry_sub_category_sc_lag'].cumsum()/full.groupby('industry_sub_category')['industry_sub_category_order_lag'].cumsum()).fillna(0)\n",
    "full['range_employees_close_rate'] = (full.groupby('range_employees')['range_employees_order_lag'].cumsum()/full.groupby('range_employees').cumcount()).fillna(0)\n",
    "full['range_employees_asc'] = (full.groupby('range_employees')['range_employees_sc_lag'].cumsum()/full.groupby('range_employees')['range_employees_order_lag'].cumsum()).fillna(0)\n",
    "full['range_revenue_close_rate'] = (full.groupby('range_revenue')['range_revenue_order_lag'].cumsum()/full.groupby('range_revenue').cumcount()).fillna(0)\n",
    "full['range_revenue_asc'] = (full.groupby('range_revenue')['range_revenue_sc_lag'].cumsum()/full.groupby('range_revenue')['range_revenue_order_lag'].cumsum()).fillna(0)\n",
    "\n",
    "# calculate customer total spend, total orders, AOV, average close rate, average sales cycle\n",
    "full['cust_amt_lag'] = full.groupby('Customer.No')['Paid.Amount'].shift(1).fillna(0)\n",
    "full['cust_order_lag'] = full.groupby('Customer.No')['whether_order'].shift(1).fillna(0)\n",
    "full['cust_sc_lag'] = full.groupby('Customer.No')['sales_cycle'].shift(1).fillna(0)\n",
    "\n",
    "full['cust_tot_spend'] = full.groupby('Customer.No')['cust_amt_lag'].cumsum()\n",
    "full['cust_tot_orders'] = full.groupby('Customer.No')['cust_order_lag'].cumsum()\n",
    "full['cust_aov'] = (full['cust_tot_spend']/full['cust_tot_orders']).fillna(0)\n",
    "full['cust_close_rate'] = (full['cust_tot_orders']/full.groupby('Customer.No').cumcount()).fillna(0)\n",
    "full['cust_asc'] = (full.groupby('Customer.No')['cust_sc_lag'].cumsum()/full['cust_tot_orders']).fillna(0)\n",
    "\n",
    "# caculate AOV, average close rate, average sales cycle for new/old customer\n",
    "full['whether_new_amt_lag'] = full.groupby('whether_new')['Paid.Amount'].shift(1).fillna(0)\n",
    "full['whether_new_order_lag'] = full.groupby('whether_new')['whether_order'].shift(1).fillna(0)\n",
    "full['whether_new_sc_lag'] = full.groupby('whether_new')['sales_cycle'].shift(1).fillna(0)\n",
    "\n",
    "full['whether_new_aov'] = (full.groupby('whether_new')['whether_new_amt_lag'].cumsum()/full.groupby('whether_new')['whether_new_order_lag'].cumsum()).fillna(0)\n",
    "full['whether_new_close_rate'] = (full.groupby('whether_new')['whether_new_order_lag'].cumsum()/full.groupby('whether_new').cumcount()).fillna(0)\n",
    "full['whether_new_asc'] = (full.groupby('whether_new')['whether_new_sc_lag'].cumsum()/full.groupby('whether_new')['whether_new_order_lag'].cumsum()).fillna(0)\n",
    "\n",
    "# caculate AOV, average close rate, average sales cycle by sales rep\n",
    "full['sales_rep_amt_lag'] = full.groupby('Sales.Rep')['Paid.Amount'].shift(1).fillna(0)\n",
    "full['sales_rep_order_lag'] = full.groupby('Sales.Rep')['whether_order'].shift(1).fillna(0)\n",
    "full['sales_rep_sc_lag'] = full.groupby('Sales.Rep')['sales_cycle'].shift(1).fillna(0)\n",
    "\n",
    "full['sales_rep_aov'] = (full.groupby('Sales.Rep')['sales_rep_amt_lag'].cumsum()/full.groupby('Sales.Rep')['sales_rep_order_lag'].cumsum()).fillna(0)\n",
    "full['sales_rep_close_rate'] = (full.groupby('Sales.Rep')['sales_rep_order_lag'].cumsum()/full.groupby('Sales.Rep').cumcount()).fillna(0)\n",
    "full['sales_rep_asc'] = (full.groupby('Sales.Rep')['sales_rep_sc_lag'].cumsum()/full.groupby('Sales.Rep')['sales_rep_order_lag'].cumsum()).fillna(0)"
   ]
  },
  {
   "cell_type": "code",
   "execution_count": 88,
   "metadata": {
    "collapsed": false
   },
   "outputs": [],
   "source": [
    "# assign the previous historical value for the missing aov, acr, asc\n",
    "col_types = ['product', 'industry_category', 'industry_sub_category', 'range_employees',\n",
    "             'range_revenue', 'cust', 'whether_new', 'sales_rep']\n",
    "for col in col_types:\n",
    "    full[col+'_aov'] = np.where(full[col+'_aov']==0, full['aov'], full[col+'_aov'])\n",
    "    full[col+'_close_rate'] = np.where(full[col+'_close_rate']==0, full['avg_close_rate'], full[col+'_close_rate'])\n",
    "    full[col+'_asc'] = np.where(full[col+'_asc']==0, full['avg_sales_cycle'], full[col+'_asc'])"
   ]
  },
  {
   "cell_type": "markdown",
   "metadata": {},
   "source": [
    "## Loading Machine Learning Packages"
   ]
  },
  {
   "cell_type": "code",
   "execution_count": 89,
   "metadata": {
    "collapsed": false
   },
   "outputs": [],
   "source": [
    "from sklearn.preprocessing import scale\n",
    "from sklearn.model_selection import train_test_split\n",
    "from xgboost import XGBClassifier\n",
    "from sklearn.neural_network import MLPClassifier\n",
    "from sklearn.metrics import confusion_matrix\n",
    "from sklearn.metrics import accuracy_score\n",
    "from sklearn.metrics import roc_auc_score\n",
    "import matplotlib.pyplot as plt"
   ]
  },
  {
   "cell_type": "code",
   "execution_count": 90,
   "metadata": {
    "collapsed": false
   },
   "outputs": [
    {
     "data": {
      "text/plain": [
       "Index([                     u'Customer.No',\n",
       "                    u'Invoice.Accept.Date',\n",
       "                           u'Order.Number',\n",
       "                            u'Paid.Amount',\n",
       "                                u'Product',\n",
       "                               u'Quote.No',\n",
       "                           u'Request.Date',\n",
       "                              u'Sales.Rep',\n",
       "                                    u'aov',\n",
       "                         u'avg_close_rate',\n",
       "                        u'avg_sales_cycle',\n",
       "                               u'close_2w',\n",
       "                               u'close_3d',\n",
       "                               u'cust_aov',\n",
       "                               u'cust_asc',\n",
       "                        u'cust_close_rate',\n",
       "                        u'cust_tot_orders',\n",
       "                         u'cust_tot_spend',\n",
       "                      u'industry_category',\n",
       "                  u'industry_category_aov',\n",
       "                  u'industry_category_asc',\n",
       "           u'industry_category_close_rate',\n",
       "                  u'industry_sub_category',\n",
       "              u'industry_sub_category_aov',\n",
       "              u'industry_sub_category_asc',\n",
       "       u'industry_sub_category_close_rate',\n",
       "                            u'product_aov',\n",
       "                            u'product_asc',\n",
       "                     u'product_close_rate',\n",
       "                u'quotes_since_last_order',\n",
       "                        u'range_employees',\n",
       "                    u'range_employees_aov',\n",
       "                    u'range_employees_asc',\n",
       "             u'range_employees_close_rate',\n",
       "                          u'range_revenue',\n",
       "                      u'range_revenue_aov',\n",
       "                      u'range_revenue_asc',\n",
       "               u'range_revenue_close_rate',\n",
       "                            u'sales_cycle',\n",
       "                          u'sales_rep_aov',\n",
       "                          u'sales_rep_asc',\n",
       "                   u'sales_rep_close_rate',\n",
       "                            u'whether_new',\n",
       "                        u'whether_new_aov',\n",
       "                        u'whether_new_asc',\n",
       "                 u'whether_new_close_rate'],\n",
       "      dtype='object')"
      ]
     },
     "execution_count": 90,
     "metadata": {},
     "output_type": "execute_result"
    }
   ],
   "source": [
    "# remove auxiliary variables\n",
    "df = full[full.columns.difference(['whether_order','order_grp','quotes_since','ones'])].copy()\n",
    "cols = [col for col in list(df) if not col.endswith('_lag')]\n",
    "df = df[cols]\n",
    "# take a look to all the fields\n",
    "df.columns"
   ]
  },
  {
   "cell_type": "markdown",
   "metadata": {},
   "source": [
    "## Preprocessing"
   ]
  },
  {
   "cell_type": "code",
   "execution_count": 91,
   "metadata": {
    "collapsed": false
   },
   "outputs": [],
   "source": [
    "# z-zcaling all features, note that we only use numeric variables as features \n",
    "df1 = df.copy()\n",
    "cols = ['aov', 'avg_close_rate', 'avg_sales_cycle',\n",
    "        'whether_new_aov', 'whether_new_close_rate', 'whether_new_asc',\n",
    "        'cust_tot_spend','cust_tot_orders','cust_aov','cust_close_rate','cust_asc','quotes_since_last_order',\n",
    "        'product_aov','product_close_rate','product_asc',\n",
    "        'industry_category_aov','industry_category_close_rate','industry_category_asc',\n",
    "        'industry_sub_category_aov','industry_sub_category_close_rate','industry_sub_category_asc',\n",
    "        'range_employees_aov','range_employees_close_rate','range_employees_asc',\n",
    "        'range_revenue_aov','range_revenue_close_rate','range_revenue_asc',\n",
    "        'sales_rep_aov','sales_rep_close_rate','sales_rep_asc']\n",
    "\n",
    "df1[cols] = scale(df1[cols])\n",
    "features = df1[cols]\n",
    "\n",
    "# here y is the flag whether the quote is closed in 3 days or 2 weeks\n",
    "close_3d = df1['close_3d']\n",
    "close_2w = df1['close_2w']"
   ]
  },
  {
   "cell_type": "code",
   "execution_count": 92,
   "metadata": {
    "collapsed": false
   },
   "outputs": [],
   "source": [
    "## Run this line to generate the training dataset used to test REST API\n",
    "df1[['Quote.No','close_3d','close_2w']+cols].to_csv('training.csv',index=False)"
   ]
  },
  {
   "cell_type": "code",
   "execution_count": 93,
   "metadata": {
    "collapsed": false
   },
   "outputs": [],
   "source": [
    "# train-test split for close_3d. 75% as training and 25% as testing\n",
    "x_train1, x_test1, y_train1, y_test1 = train_test_split(features, close_3d, test_size=0.25, random_state=31)\n",
    "\n",
    "# train-test split for close_2w. 75% as training and 25% as testing\n",
    "x_train2, x_test2, y_train2, y_test2 = train_test_split(features, close_2w, test_size=0.25, random_state=31)\n",
    "\n",
    "# neutralize the sales rep variables\n",
    "x_test1.loc[:,'sales_rep_aov'] = x_test1['aov']\n",
    "x_test1.loc[:,'sales_rep_close_rate'] = x_test1['avg_close_rate']\n",
    "x_test1.loc[:,'sales_rep_asc'] = x_test1['avg_sales_cycle']\n",
    "\n",
    "x_test2.loc[:,'sales_rep_aov'] = x_test2['aov']\n",
    "x_test2.loc[:,'sales_rep_close_rate'] = x_test2['avg_close_rate']\n",
    "x_test2.loc[:,'sales_rep_asc'] = x_test2['avg_sales_cycle']"
   ]
  },
  {
   "cell_type": "code",
   "execution_count": 94,
   "metadata": {
    "collapsed": false
   },
   "outputs": [
    {
     "name": "stderr",
     "output_type": "stream",
     "text": [
      "/anaconda/lib/python2.7/site-packages/ipykernel/__main__.py:2: UserWarning: Boolean Series key will be reindexed to match DataFrame index.\n",
      "  from ipykernel import kernelapp as app\n",
      "/anaconda/lib/python2.7/site-packages/ipykernel/__main__.py:4: UserWarning: Boolean Series key will be reindexed to match DataFrame index.\n"
     ]
    }
   ],
   "source": [
    "# test whether closed in 3 days for new customer only\n",
    "x_test3 = x_test1[df['whether_new']==1].copy()\n",
    "y_test3 = y_test1[df['whether_new']==1].copy()\n",
    "x_test4 = x_test2[df['whether_new']==1].copy()\n",
    "y_test4 = y_test2[df['whether_new']==1].copy()\n"
   ]
  },
  {
   "cell_type": "markdown",
   "metadata": {},
   "source": [
    "## Modeling"
   ]
  },
  {
   "cell_type": "markdown",
   "metadata": {},
   "source": [
    "#### Define functions for result reporting"
   ]
  },
  {
   "cell_type": "code",
   "execution_count": 95,
   "metadata": {
    "collapsed": false
   },
   "outputs": [],
   "source": [
    "def model_report(model, x_test, y_test, name='MLP', title='3 Days'):\n",
    "    model_pred = model.predict(x_test)\n",
    "    model_predprob = model.predict_proba(x_test)[:,1]\n",
    "    model_accuracy = accuracy_score(y_test, model_pred)\n",
    "    model_auc = roc_auc_score(y_test, model_predprob)\n",
    "    model_cfm = confusion_matrix(y_test, model_pred)\n",
    "    print \"%s Testing Report for Whether Closed in %s:\" % (name, title)\n",
    "    print \"%s accuracy: %.4g\" % (name, model_accuracy)\n",
    "    print \"%s AUC Score: %.4g\" % (name, model_auc)\n",
    "    print \"%s confusion matrix:\" % name\n",
    "    print \"True Positive\", model_cfm[1][1]\n",
    "    print \"True Negative\", model_cfm[0][0]\n",
    "    print \"False Positive\", model_cfm[0][1]\n",
    "    print \"False Negative\", model_cfm[1][0]"
   ]
  },
  {
   "cell_type": "code",
   "execution_count": 96,
   "metadata": {
    "collapsed": true
   },
   "outputs": [],
   "source": [
    "def xgb_importance_plot(model):\n",
    "    feat_imp = pd.Series(model.get_booster().get_fscore()).sort_values(ascending=False)\n",
    "    feat_imp.plot(kind='bar', title='Feature Importances')\n",
    "    plt.ylabel('Feature Importance Score')\n",
    "    plt.show()"
   ]
  },
  {
   "cell_type": "markdown",
   "metadata": {},
   "source": [
    "## Classification Modeling for Whether Closed in 3 Days "
   ]
  },
  {
   "cell_type": "markdown",
   "metadata": {},
   "source": [
    "#### Multi-layer Perceptron Classifier (MLP)"
   ]
  },
  {
   "cell_type": "code",
   "execution_count": 97,
   "metadata": {
    "collapsed": false
   },
   "outputs": [
    {
     "data": {
      "text/plain": [
       "MLPClassifier(activation='logistic', alpha=0.0001, batch_size='auto',\n",
       "       beta_1=0.9, beta_2=0.999, early_stopping=False, epsilon=1e-08,\n",
       "       hidden_layer_sizes=(31, 31), learning_rate='constant',\n",
       "       learning_rate_init=0.001, max_iter=200, momentum=0.9,\n",
       "       nesterovs_momentum=True, power_t=0.5, random_state=31, shuffle=True,\n",
       "       solver='adam', tol=0.0001, validation_fraction=0.1, verbose=False,\n",
       "       warm_start=False)"
      ]
     },
     "execution_count": 97,
     "metadata": {},
     "output_type": "execute_result"
    }
   ],
   "source": [
    "mlp1 = MLPClassifier(hidden_layer_sizes=(31,31), activation = \"logistic\", random_state=31)\n",
    "mlp1.fit(x_train1, y_train1)"
   ]
  },
  {
   "cell_type": "code",
   "execution_count": 98,
   "metadata": {
    "collapsed": false
   },
   "outputs": [
    {
     "name": "stdout",
     "output_type": "stream",
     "text": [
      "MLP Testing Report for Whether Closed in 3 Days:\n",
      "MLP accuracy: 0.9433\n",
      "MLP AUC Score: 0.9699\n",
      "MLP confusion matrix:\n",
      "True Positive 1502\n",
      "True Negative 31177\n",
      "False Positive 1177\n",
      "False Negative 788\n"
     ]
    }
   ],
   "source": [
    "model_report(mlp1, x_test1, y_test1)"
   ]
  },
  {
   "cell_type": "markdown",
   "metadata": {},
   "source": [
    "#### XGBoost Classifier"
   ]
  },
  {
   "cell_type": "code",
   "execution_count": 99,
   "metadata": {
    "collapsed": false
   },
   "outputs": [
    {
     "data": {
      "text/plain": [
       "XGBClassifier(base_score=0.5, booster='gbtree', colsample_bylevel=1,\n",
       "       colsample_bytree=1, gamma=0, learning_rate=0.1, max_delta_step=0,\n",
       "       max_depth=5, min_child_weight=1, missing=None, n_estimators=200,\n",
       "       n_jobs=1, nthread=None, objective='binary:logistic',\n",
       "       random_state=31, reg_alpha=1, reg_lambda=3, scale_pos_weight=1,\n",
       "       seed=None, silent=True, subsample=1)"
      ]
     },
     "execution_count": 99,
     "metadata": {},
     "output_type": "execute_result"
    }
   ],
   "source": [
    "xgb1 = XGBClassifier(max_depth=5, learning_rate=0.1, n_estimators=200, reg_alpha=1, reg_lambda=3, random_state=31)\n",
    "xgb1.fit(x_train1, y_train1)"
   ]
  },
  {
   "cell_type": "code",
   "execution_count": 100,
   "metadata": {
    "collapsed": false
   },
   "outputs": [
    {
     "data": {
      "image/png": "[encoded data removed]",
      "text/plain": [
       "<matplotlib.figure.Figure at 0x10c5472d0>"
      ]
     },
     "metadata": {},
     "output_type": "display_data"
    }
   ],
   "source": [
    "xgb_importance_plot(xgb1)"
   ]
  },
  {
   "cell_type": "code",
   "execution_count": 101,
   "metadata": {
    "collapsed": false
   },
   "outputs": [
    {
     "name": "stdout",
     "output_type": "stream",
     "text": [
      "XGB Testing Report for Whether Closed in 3 Days:\n",
      "XGB accuracy: 0.9433\n",
      "XGB AUC Score: 0.9711\n",
      "XGB confusion matrix:\n",
      "True Positive 1400\n",
      "True Negative 31280\n",
      "False Positive 1074\n",
      "False Negative 890\n"
     ]
    }
   ],
   "source": [
    "model_report(xgb1, x_test1, y_test1, name='XGB')"
   ]
  },
  {
   "cell_type": "code",
   "execution_count": 102,
   "metadata": {
    "collapsed": false
   },
   "outputs": [
    {
     "name": "stdout",
     "output_type": "stream",
     "text": [
      "XGB for New Customer Testing Report for Whether Closed in 3 Days:\n",
      "XGB for New Customer accuracy: 0.9467\n",
      "XGB for New Customer AUC Score: 0.9739\n",
      "XGB for New Customer confusion matrix:\n",
      "True Positive 1391\n",
      "True Negative 30278\n",
      "False Positive 1073\n",
      "False Negative 711\n"
     ]
    }
   ],
   "source": [
    "model_report(xgb1, x_test3, y_test3, name='XGB for New Customer')"
   ]
  },
  {
   "cell_type": "markdown",
   "metadata": {},
   "source": [
    "## Classification Modeling for Whether Closed in 2 Weeks"
   ]
  },
  {
   "cell_type": "markdown",
   "metadata": {},
   "source": [
    "#### Multi-layer Perceptron Classifier (MLP)"
   ]
  },
  {
   "cell_type": "code",
   "execution_count": 103,
   "metadata": {
    "collapsed": false
   },
   "outputs": [
    {
     "data": {
      "text/plain": [
       "MLPClassifier(activation='logistic', alpha=0.0001, batch_size='auto',\n",
       "       beta_1=0.9, beta_2=0.999, early_stopping=False, epsilon=1e-08,\n",
       "       hidden_layer_sizes=(31, 31), learning_rate='constant',\n",
       "       learning_rate_init=0.001, max_iter=200, momentum=0.9,\n",
       "       nesterovs_momentum=True, power_t=0.5, random_state=31, shuffle=True,\n",
       "       solver='adam', tol=0.0001, validation_fraction=0.1, verbose=False,\n",
       "       warm_start=False)"
      ]
     },
     "execution_count": 103,
     "metadata": {},
     "output_type": "execute_result"
    }
   ],
   "source": [
    "mlpc2 = MLPClassifier(hidden_layer_sizes=(31,31), activation = \"logistic\", random_state=31)\n",
    "mlpc2.fit(x_train2, y_train2)"
   ]
  },
  {
   "cell_type": "code",
   "execution_count": 104,
   "metadata": {
    "collapsed": false
   },
   "outputs": [
    {
     "name": "stdout",
     "output_type": "stream",
     "text": [
      "MLP Testing Report for Whether Closed in 2 Weeks:\n",
      "MLP accuracy: 0.9533\n",
      "MLP AUC Score: 0.9783\n",
      "MLP confusion matrix:\n",
      "True Positive 2507\n",
      "True Negative 30518\n",
      "False Positive 1205\n",
      "False Negative 414\n"
     ]
    }
   ],
   "source": [
    "model_report(mlpc2, x_test2, y_test2, title='2 Weeks')"
   ]
  },
  {
   "cell_type": "markdown",
   "metadata": {},
   "source": [
    "#### XGBoost Classifier"
   ]
  },
  {
   "cell_type": "code",
   "execution_count": 105,
   "metadata": {
    "collapsed": false
   },
   "outputs": [
    {
     "data": {
      "text/plain": [
       "XGBClassifier(base_score=0.5, booster='gbtree', colsample_bylevel=1,\n",
       "       colsample_bytree=1, gamma=0, learning_rate=0.1, max_delta_step=0,\n",
       "       max_depth=5, min_child_weight=1, missing=None, n_estimators=200,\n",
       "       n_jobs=1, nthread=None, objective='binary:logistic',\n",
       "       random_state=31, reg_alpha=1, reg_lambda=3, scale_pos_weight=1,\n",
       "       seed=None, silent=True, subsample=1)"
      ]
     },
     "execution_count": 105,
     "metadata": {},
     "output_type": "execute_result"
    }
   ],
   "source": [
    "xgb2 = XGBClassifier(max_depth=5, learning_rate=0.1, n_estimators=200, reg_alpha=1, reg_lambda=3, random_state=31)\n",
    "xgb2.fit(x_train2, y_train2)"
   ]
  },
  {
   "cell_type": "code",
   "execution_count": 106,
   "metadata": {
    "collapsed": false
   },
   "outputs": [
    {
     "data": {
      "image/png": "[encoded data removed]",
      "text/plain": [
       "<matplotlib.figure.Figure at 0x10e62f150>"
      ]
     },
     "metadata": {},
     "output_type": "display_data"
    }
   ],
   "source": [
    "xgb_importance_plot(xgb2)"
   ]
  },
  {
   "cell_type": "code",
   "execution_count": 107,
   "metadata": {
    "collapsed": false
   },
   "outputs": [
    {
     "name": "stdout",
     "output_type": "stream",
     "text": [
      "XGB Testing Report for Whether Closed in 2 Weeks:\n",
      "XGB accuracy: 0.9517\n",
      "XGB AUC Score: 0.9789\n",
      "XGB confusion matrix:\n",
      "True Positive 2318\n",
      "True Negative 30654\n",
      "False Positive 1069\n",
      "False Negative 603\n"
     ]
    }
   ],
   "source": [
    "model_report(xgb2, x_test2, y_test2, name='XGB', title='2 Weeks')"
   ]
  },
  {
   "cell_type": "code",
   "execution_count": 108,
   "metadata": {
    "collapsed": false
   },
   "outputs": [
    {
     "name": "stdout",
     "output_type": "stream",
     "text": [
      "XGB for New Customer Testing Report for Whether Closed in 2 Weeks:\n",
      "XGB for New Customer accuracy: 0.9569\n",
      "XGB for New Customer AUC Score: 0.9814\n",
      "XGB for New Customer confusion matrix:\n",
      "True Positive 2303\n",
      "True Negative 29709\n",
      "False Positive 1069\n",
      "False Negative 372\n"
     ]
    }
   ],
   "source": [
    "model_report(xgb2, x_test4, y_test4, name='XGB for New Customer', title='2 Weeks')"
   ]
  },
  {
   "cell_type": "markdown",
   "metadata": {},
   "source": [
    "#### Retrain XGBoost on entire data"
   ]
  },
  {
   "cell_type": "code",
   "execution_count": 109,
   "metadata": {
    "collapsed": false
   },
   "outputs": [],
   "source": [
    "# Since XGB model performs better than MLPC, it should be adopted and retrained on all data\n",
    "\n",
    "# Prediction for whether closed in 3 days\n",
    "xgb_full_3d = XGBClassifier(max_depth=5, n_estimators=200, learning_rate=0.1, reg_alpha=1, reg_lambda=3, random_state=31)\n",
    "xgb_full_3d.fit(features, close_3d)\n",
    "xgb_full_3d_pred = xgb_full_3d.predict(features)\n",
    "xgb_full_3d_predprob = xgb_full_3d.predict_proba(features)[:,1]\n",
    "\n",
    "# Prediction for whether closed in 3 days\n",
    "xgb_full_2w = XGBClassifier(max_depth=5, n_estimators=200, learning_rate=0.1, reg_alpha=1, reg_lambda=3, random_state=31)\n",
    "xgb_full_2w.fit(features, close_2w)\n",
    "xgb_full_2w_pred = xgb_full_2w.predict(features)\n",
    "xgb_full_2w_predprob = xgb_full_2w.predict_proba(features)[:,1]"
   ]
  },
  {
   "cell_type": "markdown",
   "metadata": {},
   "source": [
    "#### Add Prediction Result to Original Data"
   ]
  },
  {
   "cell_type": "code",
   "execution_count": 110,
   "metadata": {
    "collapsed": true
   },
   "outputs": [],
   "source": [
    "df1['xgb_pred_close_3d'] = xgb_full_3d_pred\n",
    "df1['xgb_pred_close_3d_prob'] = xgb_full_3d_predprob\n",
    "df1['xgb_pred_close_2w'] = xgb_full_2w_pred\n",
    "df1['xgb_pred_close_2w_prob'] = xgb_full_2w_predprob"
   ]
  },
  {
   "cell_type": "code",
   "execution_count": 111,
   "metadata": {
    "collapsed": false
   },
   "outputs": [],
   "source": [
    "df2 = pd.merge(df, df1[df1.columns.difference(cols)], on=list(df1.columns.difference(cols)[:-4]), how='left')\n",
    "# df2.to_csv('lead_close_rate_classification.csv',encoding='utf-8')"
   ]
  },
  {
   "cell_type": "code",
   "execution_count": 112,
   "metadata": {
    "collapsed": false
   },
   "outputs": [],
   "source": [
    "# save test result for whether closed in 2 weeks on only new customers\n",
    "test4 = df.iloc[x_test4.index.tolist(),:].copy()\n",
    "\n",
    "test4['xgb_pred'] = xgb2.predict(x_test4)\n",
    "test4['xgb_prob'] = xgb2.predict_proba(x_test4)[:,1]\n",
    "\n",
    "# test4.to_csv('close_2w_new_cust_test_result.csv',encoding='utf-8')"
   ]
  },
  {
   "cell_type": "code",
   "execution_count": null,
   "metadata": {
    "collapsed": true
   },
   "outputs": [],
   "source": []
  }
 ],
 "metadata": {
  "kernelspec": {
   "display_name": "Python 2",
   "language": "python",
   "name": "python2"
  },
  "language_info": {
   "codemirror_mode": {
    "name": "ipython",
    "version": 2
   },
   "file_extension": ".py",
   "mimetype": "text/x-python",
   "name": "python",
   "nbconvert_exporter": "python",
   "pygments_lexer": "ipython2",
   "version": "2.7.9"
  }
 },
 "nbformat": 4,
 "nbformat_minor": 2
}
