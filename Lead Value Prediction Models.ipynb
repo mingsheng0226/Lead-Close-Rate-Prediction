{
 "cells": [
  {
   "cell_type": "markdown",
   "metadata": {},
   "source": [
    "# Lead Value Prediction Models"
   ]
  },
  {
   "cell_type": "code",
   "execution_count": 2,
   "metadata": {
    "collapsed": false
   },
   "outputs": [],
   "source": [
    "import numpy as np\n",
    "import pandas as pd"
   ]
  },
  {
   "cell_type": "markdown",
   "metadata": {},
   "source": [
    "## Import Raw Data"
   ]
  },
  {
   "cell_type": "code",
   "execution_count": 3,
   "metadata": {
    "collapsed": false
   },
   "outputs": [
    {
     "name": "stderr",
     "output_type": "stream",
     "text": [
      "/anaconda/lib/python2.7/site-packages/IPython/core/interactiveshell.py:2717: DtypeWarning: Columns (38,40,41,54,55,57,58,59) have mixed types. Specify dtype option on import or set low_memory=False.\n",
      "  interactivity=interactivity, compiler=compiler, result=result)\n"
     ]
    }
   ],
   "source": [
    "# report contains all quotes and orders data in 2017\n",
    "report = pd.read_csv('../report1701-1708.csv', na_values=['','null','Not quoted yet','NA','<NA>','No'], encoding='latin-1')\n",
    "# enrich contains all correctly enriched customer information from Clearbit and Orb\n",
    "enrich = pd.read_csv('full_enriched_customer.csv', na_values=['','NA'], encoding='latin-1')"
   ]
  },
  {
   "cell_type": "markdown",
   "metadata": {},
   "source": [
    "## Data Cleaning"
   ]
  },
  {
   "cell_type": "code",
   "execution_count": 4,
   "metadata": {
    "collapsed": false
   },
   "outputs": [],
   "source": [
    "full = pd.merge(report, enrich, on='Customer.No', how='left')\n",
    "full['Request.Date'] = pd.to_datetime(full['Request.Date'],format='%Y-%m-%d %H:%M:%S')\n",
    "full['Invoice.Accept.Date'] = full['Invoice.Accept.Date'].fillna('2100-01-01 00:00:00')\n",
    "full['Invoice.Accept.Date'] = pd.to_datetime(full['Invoice.Accept.Date'],format='%Y-%m-%d %H:%M:%S')\n",
    "full['Order.Number'].replace(\"[^0-9]+$\",\"\",inplace=True,regex=True)\n",
    "full['Order.Number'] = full['Order.Number'].fillna('no_order')\n",
    "full['Product'].replace(\"^Custom \",\"\",inplace=True,regex=True)\n",
    "full['Paid.Amount'] = full['Paid.Amount'].fillna(0)\n",
    "full[['industry_category','industry_sub_category','range_employees','range_revenue']] = full[['industry_category','industry_sub_category','range_employees','range_revenue']].fillna('personal')\n",
    "# add flags whether first quote\n",
    "full = full[full['Quote.No'].notnull()]\n",
    "full = full.sort_values(['Request.Date','Invoice.Accept.Date'])\n",
    "# change definition of new quote to quotes before first order\n",
    "full['paid_amt_lag'] = full.groupby('Customer.No')['Paid.Amount'].shift(1).fillna(0)\n",
    "full['whether_new'] = np.where((full['Customer.No'].duplicated())&(~(full['paid_amt_lag']==0)),0,1)\n",
    "full = full[['Quote.No','Request.Date','Invoice.Accept.Date','Product','Order.Number','Customer.No','Paid.Amount','industry_category','industry_sub_category','range_employees','range_revenue','whether_new','Sales.Rep']]\n",
    "grouped_amt = full[['Quote.No','Order.Number','Paid.Amount']].copy()\n",
    "grouped_amt = grouped_amt.groupby(['Quote.No','Order.Number']).sum().reset_index()\n",
    "full = full[(~full[['Order.Number']].duplicated())|(full['Order.Number']=='no_order')]\n",
    "full = pd.merge(full[full.columns.difference(['Paid.Amount'])], grouped_amt, on=['Quote.No','Order.Number'], how='left')"
   ]
  },
  {
   "cell_type": "markdown",
   "metadata": {},
   "source": [
    "## Building Expert Variables"
   ]
  },
  {
   "cell_type": "code",
   "execution_count": 5,
   "metadata": {
    "collapsed": false
   },
   "outputs": [],
   "source": [
    "full['whether_order'] = np.where(full['Paid.Amount']==0,0,1)\n",
    "\n",
    "# calculate the historical aov, average close rate, average sales cycle\n",
    "full['ones'] = 1\n",
    "full.ix[0, 'ones'] = 0\n",
    "full['amt_lag'] = full['Paid.Amount'].shift(1).fillna(0)\n",
    "full['whether_order_lag'] = full['whether_order'].shift(1).fillna(0)\n",
    "\n",
    "full['aov'] = (full['amt_lag'].cumsum()/full['whether_order_lag'].cumsum()).fillna(0)\n",
    "full['avg_close_rate'] = (full['whether_order_lag'].cumsum()/full['ones'].cumsum()).fillna(0)\n",
    "\n",
    "# calculate the number of quotes since last order\n",
    "full['order_grp'] = full.groupby('Customer.No')['whether_order'].cumsum()\n",
    "full['quotes_since'] = full.groupby(['Customer.No','order_grp']).cumcount()\n",
    "full['quotes_since_last_order'] = np.where(full['order_grp']==0,full['quotes_since']+1,full['quotes_since'])\n",
    "full['quotes_since_last_order'] = np.where(full['whether_order']==1,full.groupby('Customer.No')['quotes_since_last_order'].shift(1).fillna(0)+1,full['quotes_since_last_order'])\n",
    "\n",
    "# add the lag1 columns for paid.amount, whether_order, sales_cycle for each category\n",
    "full['product_amt_lag'] = full.groupby('Product')['Paid.Amount'].shift(1).fillna(0)\n",
    "full['industry_category_amt_lag'] = full.groupby('industry_category')['Paid.Amount'].shift(1).fillna(0)\n",
    "full['industry_sub_category_amt_lag'] = full.groupby('industry_sub_category')['Paid.Amount'].shift(1).fillna(0)\n",
    "full['range_employees_amt_lag'] = full.groupby('range_employees')['Paid.Amount'].shift(1).fillna(0)\n",
    "full['range_revenue_amt_lag'] = full.groupby('range_revenue')['Paid.Amount'].shift(1).fillna(0)\n",
    "\n",
    "full['product_order_lag'] = full.groupby('Product')['whether_order'].shift(1).fillna(0)\n",
    "full['industry_category_order_lag'] = full.groupby('industry_category')['whether_order'].shift(1).fillna(0)\n",
    "full['industry_sub_category_order_lag'] = full.groupby('industry_sub_category')['whether_order'].shift(1).fillna(0)\n",
    "full['range_employees_order_lag'] = full.groupby('range_employees')['whether_order'].shift(1).fillna(0)\n",
    "full['range_revenue_order_lag'] = full.groupby('range_revenue')['whether_order'].shift(1).fillna(0)\n",
    "\n",
    "\n",
    "# calculate AOV by product, industry_category, industry_sub_category, range_employee, range_revenue based on lag1 values\n",
    "full['product_aov'] = (full.groupby('Product')['product_amt_lag'].cumsum()/full.groupby('Product')['product_order_lag'].cumsum()).fillna(0)\n",
    "full['industry_category_aov'] = (full.groupby('industry_category')['industry_category_amt_lag'].cumsum()/full.groupby('industry_category')['industry_category_order_lag'].cumsum()).fillna(0)\n",
    "full['industry_sub_category_aov'] = (full.groupby('industry_sub_category')['industry_sub_category_amt_lag'].cumsum()/full.groupby('industry_sub_category')['industry_sub_category_order_lag'].cumsum()).fillna(0)\n",
    "full['range_employees_aov'] = (full.groupby('range_employees')['range_employees_amt_lag'].cumsum()/full.groupby('range_employees')['range_employees_order_lag'].cumsum()).fillna(0)\n",
    "full['range_revenue_aov'] = (full.groupby('range_revenue')['range_revenue_amt_lag'].cumsum()/full.groupby('range_revenue')['range_revenue_order_lag'].cumsum()).fillna(0)\n",
    "\n",
    "# calculate historical close rate and average sales cycle \n",
    "# by product, industry_category, industry_sub_category, range_employee, range_revenue based on lag1 values\n",
    "full['product_close_rate'] = (full.groupby('Product')['product_order_lag'].cumsum()/full.groupby('Product').cumcount()).fillna(0)\n",
    "full['industry_category_close_rate'] = (full.groupby('industry_category')['industry_category_order_lag'].cumsum()/full.groupby('industry_category').cumcount()).fillna(0)\n",
    "full['industry_sub_category_close_rate'] = (full.groupby('industry_sub_category')['industry_sub_category_order_lag'].cumsum()/full.groupby('industry_sub_category').cumcount()).fillna(0)\n",
    "full['range_employees_close_rate'] = (full.groupby('range_employees')['range_employees_order_lag'].cumsum()/full.groupby('range_employees').cumcount()).fillna(0)\n",
    "full['range_revenue_close_rate'] = (full.groupby('range_revenue')['range_revenue_order_lag'].cumsum()/full.groupby('range_revenue').cumcount()).fillna(0)\n",
    "\n",
    "# calculate customer total spend, total orders, AOV, average close rate, average sales cycle\n",
    "full['cust_amt_lag'] = full.groupby('Customer.No')['Paid.Amount'].shift(1).fillna(0)\n",
    "full['cust_order_lag'] = full.groupby('Customer.No')['whether_order'].shift(1).fillna(0)\n",
    "\n",
    "full['cust_tot_spend'] = full.groupby('Customer.No')['cust_amt_lag'].cumsum()\n",
    "full['cust_tot_orders'] = full.groupby('Customer.No')['cust_order_lag'].cumsum()\n",
    "full['cust_aov'] = (full['cust_tot_spend']/full['cust_tot_orders']).fillna(0)\n",
    "full['cust_close_rate'] = (full['cust_tot_orders']/full.groupby('Customer.No').cumcount()).fillna(0)\n",
    "\n",
    "# caculate AOV, average close rate, average sales cycle for new/old customer\n",
    "full['whether_new_amt_lag'] = full.groupby('whether_new')['Paid.Amount'].shift(1).fillna(0)\n",
    "full['whether_new_order_lag'] = full.groupby('whether_new')['whether_order'].shift(1).fillna(0)\n",
    "\n",
    "full['whether_new_aov'] = (full.groupby('whether_new')['whether_new_amt_lag'].cumsum()/full.groupby('whether_new')['whether_new_order_lag'].cumsum()).fillna(0)\n",
    "full['whether_new_close_rate'] = (full.groupby('whether_new')['whether_new_order_lag'].cumsum()/full.groupby('whether_new').cumcount()).fillna(0)\n",
    "\n",
    "# caculate AOV, average close rate, average sales cycle by sales rep\n",
    "full['sales_rep_amt_lag'] = full.groupby('Sales.Rep')['Paid.Amount'].shift(1).fillna(0)\n",
    "full['sales_rep_order_lag'] = full.groupby('Sales.Rep')['whether_order'].shift(1).fillna(0)\n",
    "\n",
    "full['sales_rep_aov'] = (full.groupby('Sales.Rep')['sales_rep_amt_lag'].cumsum()/full.groupby('Sales.Rep')['sales_rep_order_lag'].cumsum()).fillna(0)\n",
    "full['sales_rep_close_rate'] = (full.groupby('Sales.Rep')['sales_rep_order_lag'].cumsum()/full.groupby('Sales.Rep').cumcount()).fillna(0)\n"
   ]
  },
  {
   "cell_type": "code",
   "execution_count": 6,
   "metadata": {
    "collapsed": true
   },
   "outputs": [],
   "source": [
    "# assign the previous historical value for the missing aov, acr, asc\n",
    "col_types = ['product', 'industry_category', 'industry_sub_category', 'range_employees',\n",
    "             'range_revenue', 'cust', 'whether_new', 'sales_rep']\n",
    "for col in col_types:\n",
    "    full[col+'_aov'] = np.where(full[col+'_aov']==0, full['aov'], full[col+'_aov'])\n",
    "    full[col+'_close_rate'] = np.where(full[col+'_close_rate']==0, full['avg_close_rate'], full[col+'_close_rate'])"
   ]
  },
  {
   "cell_type": "markdown",
   "metadata": {},
   "source": [
    "## Load Machine Learning Packages"
   ]
  },
  {
   "cell_type": "code",
   "execution_count": 7,
   "metadata": {
    "collapsed": false
   },
   "outputs": [],
   "source": [
    "from sklearn.preprocessing import scale\n",
    "from sklearn.preprocessing import PolynomialFeatures\n",
    "from sklearn.model_selection import train_test_split\n",
    "from sklearn import linear_model\n",
    "from sklearn.tree import DecisionTreeRegressor, export_graphviz\n",
    "from xgboost import XGBRegressor\n",
    "from sklearn.model_selection import cross_val_score\n",
    "from sklearn.metrics import mean_squared_error\n",
    "import matplotlib.pyplot as plt"
   ]
  },
  {
   "cell_type": "code",
   "execution_count": 8,
   "metadata": {
    "collapsed": false
   },
   "outputs": [
    {
     "data": {
      "text/plain": [
       "Index([                     u'Customer.No',\n",
       "                    u'Invoice.Accept.Date',\n",
       "                           u'Order.Number',\n",
       "                            u'Paid.Amount',\n",
       "                                u'Product',\n",
       "                               u'Quote.No',\n",
       "                           u'Request.Date',\n",
       "                              u'Sales.Rep',\n",
       "                                u'amt_lag',\n",
       "                                    u'aov',\n",
       "                         u'avg_close_rate',\n",
       "                           u'cust_amt_lag',\n",
       "                               u'cust_aov',\n",
       "                        u'cust_close_rate',\n",
       "                         u'cust_order_lag',\n",
       "                        u'cust_tot_orders',\n",
       "                         u'cust_tot_spend',\n",
       "                      u'industry_category',\n",
       "              u'industry_category_amt_lag',\n",
       "                  u'industry_category_aov',\n",
       "           u'industry_category_close_rate',\n",
       "            u'industry_category_order_lag',\n",
       "                  u'industry_sub_category',\n",
       "          u'industry_sub_category_amt_lag',\n",
       "              u'industry_sub_category_aov',\n",
       "       u'industry_sub_category_close_rate',\n",
       "        u'industry_sub_category_order_lag',\n",
       "                        u'product_amt_lag',\n",
       "                            u'product_aov',\n",
       "                     u'product_close_rate',\n",
       "                      u'product_order_lag',\n",
       "                u'quotes_since_last_order',\n",
       "                        u'range_employees',\n",
       "                u'range_employees_amt_lag',\n",
       "                    u'range_employees_aov',\n",
       "             u'range_employees_close_rate',\n",
       "              u'range_employees_order_lag',\n",
       "                          u'range_revenue',\n",
       "                  u'range_revenue_amt_lag',\n",
       "                      u'range_revenue_aov',\n",
       "               u'range_revenue_close_rate',\n",
       "                u'range_revenue_order_lag',\n",
       "                      u'sales_rep_amt_lag',\n",
       "                          u'sales_rep_aov',\n",
       "                   u'sales_rep_close_rate',\n",
       "                    u'sales_rep_order_lag',\n",
       "                            u'whether_new',\n",
       "                    u'whether_new_amt_lag',\n",
       "                        u'whether_new_aov',\n",
       "                 u'whether_new_close_rate',\n",
       "                  u'whether_new_order_lag',\n",
       "                      u'whether_order_lag'],\n",
       "      dtype='object')"
      ]
     },
     "execution_count": 8,
     "metadata": {},
     "output_type": "execute_result"
    }
   ],
   "source": [
    "# remove auxiliary variables\n",
    "df = full[full.columns.difference(['whether_order','order_grp','quotes_since','ones'])].copy().fillna(0)\n",
    "# take a look to all the fields\n",
    "df.columns"
   ]
  },
  {
   "cell_type": "markdown",
   "metadata": {},
   "source": [
    "## Preprocessing"
   ]
  },
  {
   "cell_type": "code",
   "execution_count": 9,
   "metadata": {
    "collapsed": false
   },
   "outputs": [],
   "source": [
    "# z-zcaling all features, note that we only use numeric variables as features \n",
    "# z-zcaling all features, note that we only use numeric variables as features \n",
    "df1 = df.copy()\n",
    "cols = ['aov', 'avg_close_rate',\n",
    "        'whether_new_aov', 'whether_new_close_rate',\n",
    "        'cust_tot_spend','cust_tot_orders','cust_aov','cust_close_rate','quotes_since_last_order',\n",
    "        'product_aov','product_close_rate',\n",
    "        'industry_category_aov','industry_category_close_rate',\n",
    "        'industry_sub_category_aov','industry_sub_category_close_rate',\n",
    "        'range_employees_aov','range_employees_close_rate',\n",
    "        'range_revenue_aov','range_revenue_close_rate',\n",
    "        'sales_rep_aov','sales_rep_close_rate']\n",
    "\n",
    "df1[cols] = scale(df1[cols])\n",
    "features = df1[cols]\n",
    "\n",
    "# here y is the actual order value (Paid.Amount)\n",
    "order_value = df1['Paid.Amount']"
   ]
  },
  {
   "cell_type": "code",
   "execution_count": 10,
   "metadata": {
    "collapsed": false
   },
   "outputs": [],
   "source": [
    "# train-test split. 75% as training and 25% as testing\n",
    "x_train, x_test, y_train, y_test = train_test_split(features, order_value, test_size=0.25, random_state=31)"
   ]
  },
  {
   "cell_type": "code",
   "execution_count": 11,
   "metadata": {
    "collapsed": false
   },
   "outputs": [
    {
     "name": "stderr",
     "output_type": "stream",
     "text": [
      "/anaconda/lib/python2.7/site-packages/pandas/core/indexing.py:561: SettingWithCopyWarning: \n",
      "A value is trying to be set on a copy of a slice from a DataFrame.\n",
      "Try using .loc[row_indexer,col_indexer] = value instead\n",
      "\n",
      "See the caveats in the documentation: http://pandas.pydata.org/pandas-docs/stable/indexing.html#indexing-view-versus-copy\n",
      "  self.obj[item_labels[indexer[info_axis]]] = value\n"
     ]
    }
   ],
   "source": [
    "# neutralize the sales rep variables\n",
    "x_test.loc[:,'sales_rep_aov'] = x_test['aov']\n",
    "x_test.loc[:,'sales_rep_close_rate'] = x_test['avg_close_rate']"
   ]
  },
  {
   "cell_type": "markdown",
   "metadata": {},
   "source": [
    "## Modeling"
   ]
  },
  {
   "cell_type": "markdown",
   "metadata": {},
   "source": [
    "#### XGBoost Regression"
   ]
  },
  {
   "cell_type": "code",
   "execution_count": 12,
   "metadata": {
    "collapsed": false
   },
   "outputs": [
    {
     "data": {
      "text/plain": [
       "XGBRegressor(base_score=0.5, booster='gbtree', colsample_bylevel=1,\n",
       "       colsample_bytree=1, gamma=0, learning_rate=0.1, max_delta_step=0,\n",
       "       max_depth=5, min_child_weight=1, missing=None, n_estimators=200,\n",
       "       n_jobs=1, nthread=None, objective='reg:linear', random_state=31,\n",
       "       reg_alpha=1, reg_lambda=3, scale_pos_weight=1, seed=None,\n",
       "       silent=True, subsample=1)"
      ]
     },
     "execution_count": 12,
     "metadata": {},
     "output_type": "execute_result"
    }
   ],
   "source": [
    "# XGBoost is the state-of-art ensemble boosted tree framework which usually performs well but trained slowly\n",
    "# Fit XGBoost model and tune parameters manually (expensive to apply cross-validation if data is large)\n",
    "xgb_reg = XGBRegressor(max_depth=5, n_estimators=200, learning_rate=0.1, reg_alpha=1, reg_lambda=3, random_state=31)\n",
    "xgb_reg.fit(x_train, y_train)"
   ]
  },
  {
   "cell_type": "code",
   "execution_count": 13,
   "metadata": {
    "collapsed": false
   },
   "outputs": [
    {
     "name": "stdout",
     "output_type": "stream",
     "text": [
      "XGBoost regression test mean square error: 43453.05\n"
     ]
    }
   ],
   "source": [
    "# Evaluate the XGboost regression model by test MSE\n",
    "xgb_pred = xgb_reg.predict(x_test)\n",
    "xgb_mse = mean_squared_error(y_test,xgb_pred)\n",
    "print(\"XGBoost regression test mean square error: %0.2f\") % xgb_mse"
   ]
  },
  {
   "cell_type": "markdown",
   "metadata": {},
   "source": [
    "#### Re-train XGB on Entire Data"
   ]
  },
  {
   "cell_type": "code",
   "execution_count": 14,
   "metadata": {
    "collapsed": false
   },
   "outputs": [],
   "source": [
    "# Since XGB model has the best test result among all four models, it should be applied and retrained on all data\n",
    "xgb_x = df1[cols]\n",
    "xgb_y = df1['Paid.Amount']\n",
    "xgb_full_reg = XGBRegressor(max_depth=4, n_estimators=400, learning_rate=0.04, reg_alpha=6, reg_lambda=11, random_state=31)\n",
    "xgb_full_reg.fit(xgb_x, xgb_y)\n",
    "xgb_full_pred = xgb_full_reg.predict(xgb_x)"
   ]
  },
  {
   "cell_type": "markdown",
   "metadata": {},
   "source": [
    "#### Add Prediction Result to Original Data"
   ]
  },
  {
   "cell_type": "code",
   "execution_count": 15,
   "metadata": {
    "collapsed": false
   },
   "outputs": [],
   "source": [
    "df1['xgb_full_pred_amt'] = xgb_full_pred\n",
    "df1.ix[df1['xgb_full_pred_amt']<20,'xgb_full_pred_amt'] = 0\n",
    "# mean_squared_error(df1['Paid.Amount'],df1['xgb_full_pred_amt'])\n",
    "# training MSE is about 6629\n",
    "df2 = pd.merge(df, df1, on=['Product','industry_category','industry_sub_category','range_employees','range_revenue','Customer.No','Quote.No','Request.Date','Invoice.Accept.Date','Order.Number','Sales.Rep','whether_new','Paid.Amount'], how='left')\n",
    "#df2.to_csv('lead_value_prediction.csv',encoding='utf-8')"
   ]
  },
  {
   "cell_type": "markdown",
   "metadata": {},
   "source": [
    "## Visualization"
   ]
  },
  {
   "cell_type": "code",
   "execution_count": 16,
   "metadata": {
    "collapsed": false
   },
   "outputs": [
    {
     "data": {
      "image/png": "[encoded data removed]",
      "text/plain": [
       "<matplotlib.figure.Figure at 0x113ad52d0>"
      ]
     },
     "metadata": {},
     "output_type": "display_data"
    }
   ],
   "source": [
    "# compare true values and predicted values\n",
    "plt.figure()\n",
    "\n",
    "plt.plot(df2['Paid.Amount'], df2['xgb_full_pred_amt'], 'bo', ms=2)\n",
    "plt.plot(df2['Paid.Amount'], df2['xgb_full_pred_amt'], 'bo', [0,60000], [0,60000], 'k')\n",
    "plt.axis([0, 60000, 0, 60000])\n",
    "plt.xlabel('Actual Quote Value ($)')\n",
    "plt.ylabel('Predicted Quote Value ($)')\n",
    "plt.title('True Value vs. Predicted Value')\n",
    "\n",
    "plt.show()"
   ]
  },
  {
   "cell_type": "code",
   "execution_count": 17,
   "metadata": {
    "collapsed": false
   },
   "outputs": [
    {
     "data": {
      "image/png": "[encoded data removed]",
      "text/plain": [
       "<matplotlib.figure.Figure at 0x113777a50>"
      ]
     },
     "metadata": {},
     "output_type": "display_data"
    }
   ],
   "source": [
    "# compare true values and predicted values for true values < $1,000\n",
    "plt.figure()\n",
    "\n",
    "plt.plot(df2['Paid.Amount'], df2['xgb_full_pred_amt'], 'go', ms=2)\n",
    "plt.plot([0,1000], [0,1000], 'k')\n",
    "plt.axis([0, 1000, 0, 1000])\n",
    "plt.xlabel('Actual Quote Value ($)')\n",
    "plt.ylabel('Predicted Quote Value ($)')\n",
    "plt.title('True Value vs. Predicted Value (Order Value < 1k)')\n",
    "\n",
    "plt.show()"
   ]
  },
  {
   "cell_type": "code",
   "execution_count": 23,
   "metadata": {
    "collapsed": false
   },
   "outputs": [],
   "source": [
    "#a = pd.DataFrame({'id':['x','x','x','y','y','y'],\n",
    "#                 'date':['2010-05-01','2010-05-01','2010-01-02','2010-02-04','2010-04-05','2010-04-05'],\n",
    "#                 'order':['x1','x1','x2','y1','y2','y2'],\n",
    "#                 'type':['a','a','b','a','b','b'],\n",
    "#                 'amt':[1,2,3,4,5,6]})\n",
    "#a['date']=pd.to_datetime(a['date'])\n",
    "#a = a.sort_values('date')\n",
    "#a = a.groupby(['id','date','order','type']).sum().reset_index()\n",
    "#a['cust_tot'] = a.groupby(['id'])['amt'].cumsum()\n",
    "#a['type_tot'] = a.groupby(['type'])['amt'].cumsum()"
   ]
  }
 ],
 "metadata": {
  "kernelspec": {
   "display_name": "Python 2",
   "language": "python",
   "name": "python2"
  },
  "language_info": {
   "codemirror_mode": {
    "name": "ipython",
    "version": 2
   },
   "file_extension": ".py",
   "mimetype": "text/x-python",
   "name": "python",
   "nbconvert_exporter": "python",
   "pygments_lexer": "ipython2",
   "version": "2.7.9"
  }
 },
 "nbformat": 4,
 "nbformat_minor": 2
}
